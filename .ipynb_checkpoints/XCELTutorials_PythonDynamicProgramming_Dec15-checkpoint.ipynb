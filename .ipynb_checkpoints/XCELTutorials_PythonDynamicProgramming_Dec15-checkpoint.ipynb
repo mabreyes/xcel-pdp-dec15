{
 "cells": [
  {
   "cell_type": "markdown",
   "metadata": {},
   "source": [
    "# Python Dynamic Programming\n",
    "### by Marc Anthony B Reyes ([@marcreyesph](https://github.com/marcreyesph)) / hello@marcreyes.ph\n",
    "December 15, 2018\n",
    "\n",
    "### Code will be available at https://github.com/marcreyesph/xceltutorials_pdp_dec15.\n",
    "\n",
    "### Table of Contents\n",
    "\n",
    "- [Simple Implementations of Problems in Dynamic Programming](#Simple_Implementations_of_Problems_in_Dynamic_Programming)\n",
    "- [Dynamic Programming in Machine Learning](#Dynamic_Programming_in_Machine_Learning)\n",
    "\n",
    "### Basic Setup\n",
    "\n",
    "- Python version: 3.6 (Anaconda)\n",
    "- TensorFlow version: 1.12"
   ]
  },
  {
   "cell_type": "code",
   "execution_count": null,
   "metadata": {},
   "outputs": [],
   "source": []
  }
 ],
 "metadata": {
  "kernelspec": {
   "display_name": "Python 3",
   "language": "python",
   "name": "python3"
  },
  "language_info": {
   "codemirror_mode": {
    "name": "ipython",
    "version": 3
   },
   "file_extension": ".py",
   "mimetype": "text/x-python",
   "name": "python",
   "nbconvert_exporter": "python",
   "pygments_lexer": "ipython3",
   "version": "3.6.6"
  }
 },
 "nbformat": 4,
 "nbformat_minor": 2
}
