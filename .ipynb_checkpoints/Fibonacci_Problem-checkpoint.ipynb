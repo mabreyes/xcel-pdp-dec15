{
 "cells": [
  {
   "cell_type": "markdown",
   "metadata": {},
   "source": [
    "# Fibonacci Problem"
   ]
  },
  {
   "cell_type": "markdown",
   "metadata": {},
   "source": [
    "The Fibonacci numbers are the numbers in the following integer sequence.\n",
    "$ 0, 1, 1, 2, 3, 5, 8, 13, 21, 34, 55, 89, 144,... \\tag{1}$  \n",
    "\n",
    "In mathematical terms, the sequence Fn of Fibonacci numbers is defined by the recurrence relation.\n",
    "$ F_n = F_{n-1} + F_{n-2} \\tag{2}$"
   ]
  },
  {
   "cell_type": "markdown",
   "metadata": {},
   "source": [
    "Given a number n, print n-th Fibonacci Number.\n",
    "```\n",
    "Example:\n",
    "Input  : n = 2\n",
    "Output : 1\n",
    "\n",
    "Input  : n = 9\n",
    "Output : 34\n",
    "```\n",
    "\n",
    "Write a function $Fibonacci(n)$ that returns $F_n$. For example, if $n = 0$, then $fib()$ should return $0$. If $n = 1$, then it should return $1$. For $n > 1$, it should return $F_{n-1} + F_{n-2}$.\n",
    "\n",
    "```\n",
    "For n = 9\n",
    "Output: 34\n",
    "```"
   ]
  },
  {
   "cell_type": "markdown",
   "metadata": {},
   "source": [
    "## Method 1: Use Recursion"
   ]
  },
  {
   "cell_type": "code",
   "execution_count": 2,
   "metadata": {},
   "outputs": [
    {
     "name": "stdout",
     "output_type": "stream",
     "text": [
      "34\n"
     ]
    }
   ],
   "source": [
    "# Function for nth Fibonacci number \n",
    "  \n",
    "def Fibonacci(n): \n",
    "    if n<0: \n",
    "        print(\"Incorrect input\") \n",
    "    # First Fibonacci number is 0 \n",
    "    elif n==0: \n",
    "        return 0\n",
    "    # Second Fibonacci number is 1 \n",
    "    elif n==1: \n",
    "        return 1\n",
    "    else: \n",
    "        return Fibonacci(n-1)+Fibonacci(n-2) \n",
    "\n",
    "# Test function\n",
    "print(Fibonacci(9)) "
   ]
  },
  {
   "cell_type": "markdown",
   "metadata": {},
   "source": [
    "Time Complexity: $T(n) = T(n-1) + T(n-2)$ which is exponential. We can observe that this implementation does a lot of repeated work (see the following recursion tree). So this is a bad implementation for nth Fibonacci number.\n",
    "```\n",
    "                           fib(5)   \n",
    "                     /                \\\n",
    "               fib(4)                fib(3)   \n",
    "             /        \\              /       \\ \n",
    "         fib(3)      fib(2)         fib(2)   fib(1)\n",
    "        /    \\       /    \\        /      \\\n",
    "  fib(2)   fib(1)  fib(1) fib(0) fib(1) fib(0)\n",
    "  /     \\\n",
    "fib(1) fib(0)\n",
    "```\n",
    "Extra Space: $O(n)$ if we consider the function call stack size, otherwise $O(1)$."
   ]
  },
  {
   "cell_type": "markdown",
   "metadata": {},
   "source": [
    "## Method 2 (Use Dynamic Programming)\n",
    "We can avoid the repeated work done is the method 1 by storing the Fibonacci numbers calculated so far."
   ]
  },
  {
   "cell_type": "code",
   "execution_count": 4,
   "metadata": {},
   "outputs": [
    {
     "name": "stdout",
     "output_type": "stream",
     "text": [
      "34\n"
     ]
    }
   ],
   "source": [
    "# Fibonacci Series using Dynamic Programming \n",
    "def fibonacci(n): \n",
    "      \n",
    "    # Taking 1st two fibonacci nubers as 0 and 1 \n",
    "    FibArray = [0, 1] \n",
    "      \n",
    "    while len(FibArray) < n + 1:  \n",
    "        FibArray.append(0)  \n",
    "      \n",
    "    if n <= 1: \n",
    "       return n \n",
    "    else: \n",
    "       if FibArray[n - 1] ==  0: \n",
    "           FibArray[n - 1] = fibonacci(n - 1) \n",
    "      \n",
    "       if FibArray[n - 2] ==  0: \n",
    "           FibArray[n - 2] = fibonacci(n - 2) \n",
    "      \n",
    "       FibArray[n] = FibArray[n - 2] + FibArray[n - 1] \n",
    "    return FibArray[n] \n",
    "\n",
    "# Test code\n",
    "print(fibonacci(9))"
   ]
  },
  {
   "cell_type": "markdown",
   "metadata": {},
   "source": [
    "## Method 3 (Space Optimized Method 2)\n",
    "We can optimize the space used in method 2 by storing the previous two numbers only because that is all we need to get the next Fibonacci number in series."
   ]
  },
  {
   "cell_type": "code",
   "execution_count": 5,
   "metadata": {},
   "outputs": [
    {
     "name": "stdout",
     "output_type": "stream",
     "text": [
      "34\n"
     ]
    }
   ],
   "source": [
    "# Function for nth fibonacci number - Space Optimisataion \n",
    "# Taking 1st two fibonacci numbers as 0 and 1 \n",
    "  \n",
    "def fibonacci(n): \n",
    "    a = 0\n",
    "    b = 1\n",
    "    if n < 0: \n",
    "        print(\"Incorrect input\") \n",
    "    elif n == 0: \n",
    "        return a \n",
    "    elif n == 1: \n",
    "        return b \n",
    "    else: \n",
    "        for i in range(2,n+1): \n",
    "            c = a + b \n",
    "            a = b \n",
    "            b = c \n",
    "        return b\n",
    "    \n",
    "# Test program\n",
    "print(fibonacci(9))"
   ]
  },
  {
   "cell_type": "markdown",
   "metadata": {},
   "source": [
    "Time Complexity: $O(n)$ Extra Space: $O(1)$\n",
    "\n",
    "## Method 4 (Using power of the matrix $\\{\\{1,1\\},\\{1,0\\}\\}$)\n",
    "This another $O(n)$ which relies on the fact that if we n times multiply the matrix $M = {{1,1},{1,0}}$ to itself (in other words calculate $power(M, n )$), then we get the $(n+1)^{th}$ Fibonacci number as the element at row and column $(0, 0)$ in the resultant matrix.\n",
    "\n",
    "The matrix representation gives the following closed expression for the Fibonacci numbers:\n",
    "$ \n",
    "\\begin{bmatrix}\n",
    "1 & 1 \\\\\n",
    "1 & 0 \\\\\n",
    "\\end{bmatrix}^2 =\n",
    "\\begin{bmatrix}\n",
    "F_{n+1} & F_n \\\\\n",
    "F_n & F_{n-1} \\\\\n",
    "\\end{bmatrix}\n",
    "\\tag{3}\n",
    "$"
   ]
  },
  {
   "cell_type": "code",
   "execution_count": 9,
   "metadata": {},
   "outputs": [
    {
     "name": "stdout",
     "output_type": "stream",
     "text": [
      "34\n"
     ]
    }
   ],
   "source": [
    "\"\"\"Helper function that multiplies 2 matrices F and M of size 2*2, \n",
    "and puts the multiplicationresult back to F[][]\n",
    "  \n",
    "Helper function that calculates F[][] raise to the power n and \n",
    "puts the result in F[][]. Note that this function is designed only for fib() \n",
    "and won't work as general power function\n",
    "\"\"\"\n",
    "\n",
    "def fib(n): \n",
    "    F = [[1, 1], \n",
    "         [1, 0]] \n",
    "    if (n == 0): \n",
    "        return 0\n",
    "    power(F, n - 1) \n",
    "      \n",
    "    return F[0][0] \n",
    "  \n",
    "def multiply(F, M): \n",
    "  \n",
    "    x = (F[0][0] * M[0][0] + \n",
    "         F[0][1] * M[1][0]) \n",
    "    y = (F[0][0] * M[0][1] +\n",
    "         F[0][1] * M[1][1]) \n",
    "    z = (F[1][0] * M[0][0] + \n",
    "         F[1][1] * M[1][0]) \n",
    "    w = (F[1][0] * M[0][1] + \n",
    "         F[1][1] * M[1][1]) \n",
    "      \n",
    "    F[0][0] = x \n",
    "    F[0][1] = y \n",
    "    F[1][0] = z \n",
    "    F[1][1] = w\n",
    "    \n",
    "def power(F, n): \n",
    "  \n",
    "    M = [[1, 1], \n",
    "         [1, 0]] \n",
    "  \n",
    "    # n - 1 times multiply the \n",
    "    # matrix to {{1,0},{0,1}} \n",
    "    for i in range(2, n + 1): \n",
    "        multiply(F, M) \n",
    "        \n",
    "# Driver Code \n",
    "if __name__ == \"__main__\": \n",
    "    n = 9\n",
    "    print(fib(n)) "
   ]
  },
  {
   "cell_type": "markdown",
   "metadata": {},
   "source": [
    "Time Complexity: $O(n)$ Extra Space: $O(1)$\n",
    "\n",
    "## Method 5 ( Optimized Method 4 )\n",
    "The Method 4 can be optimized to work in O(Logn) time complexity. We can do recursive multiplication to get $power(M, n)$ in the prevous method (Similar to the optimization done)."
   ]
  },
  {
   "cell_type": "code",
   "execution_count": 10,
   "metadata": {},
   "outputs": [
    {
     "name": "stdout",
     "output_type": "stream",
     "text": [
      "34\n"
     ]
    }
   ],
   "source": [
    "# Fibonacci Series using  \n",
    "# Optimized Method \n",
    "  \n",
    "# function that returns nth  \n",
    "# Fibonacci number  \n",
    "def fib(n): \n",
    "      \n",
    "    F = [[1, 1], \n",
    "         [1, 0]] \n",
    "    if (n == 0): \n",
    "        return 0\n",
    "    power(F, n - 1) \n",
    "          \n",
    "    return F[0][0] \n",
    "      \n",
    "def multiply(F, M): \n",
    "      \n",
    "    x = (F[0][0] * M[0][0] + \n",
    "         F[0][1] * M[1][0]) \n",
    "    y = (F[0][0] * M[0][1] + \n",
    "         F[0][1] * M[1][1]) \n",
    "    z = (F[1][0] * M[0][0] + \n",
    "         F[1][1] * M[1][0]) \n",
    "    w = (F[1][0] * M[0][1] + \n",
    "         F[1][1] * M[1][1]) \n",
    "      \n",
    "    F[0][0] = x \n",
    "    F[0][1] = y \n",
    "    F[1][0] = z \n",
    "    F[1][1] = w \n",
    "          \n",
    "# Optimized version of power() in method 4  \n",
    "def power(F, n): \n",
    "  \n",
    "    if( n == 0 or n == 1): \n",
    "        return; \n",
    "    M = [[1, 1], \n",
    "         [1, 0]]; \n",
    "          \n",
    "    power(F, n // 2) \n",
    "    multiply(F, F) \n",
    "          \n",
    "    if (n % 2 != 0): \n",
    "        multiply(F, M) \n",
    "        \n",
    "# Driver Code \n",
    "if __name__ == \"__main__\": \n",
    "    n = 9\n",
    "    print(fib(n)) "
   ]
  },
  {
   "cell_type": "markdown",
   "metadata": {},
   "source": [
    "Time Complexity: $O(\\log_n)$\n",
    "Extra Space: $O(\\log_n)$ if we consider the function call stack size, otherwise $O(1)$."
   ]
  },
  {
   "cell_type": "markdown",
   "metadata": {},
   "source": [
    "# Method 6 ($O(\\log_n)$ Time)\n",
    "Below is one more interesting recurrence formula that can be used to find n’th Fibonacci Number in O(Log n) time.\n",
    "```\n",
    "If n is even then k = n/2:\n",
    "F(n) = [2*F(k-1) + F(k)]*F(k)\n",
    "\n",
    "If n is odd then k = (n + 1)/2\n",
    "F(n) = F(k)*F(k) + F(k-1)*F(k-1)\n",
    "```\n",
    "The formula can be derived from above matrix equation number $3$.\n",
    "$ \n",
    "\\begin{bmatrix}\n",
    "1 & 1 \\\\\n",
    "1 & 0 \\\\\n",
    "\\end{bmatrix}^2 =\n",
    "\\begin{bmatrix}\n",
    "F_{n+1} & F_n \\\\\n",
    "F_n & F_{n-1} \\\\\n",
    "\\end{bmatrix}\n",
    "\\tag{3}\n",
    "$\n",
    "\n",
    "Taking determinant on both sides, we get\n",
    "$ (-1)^n = F_{n+1}F_{n-1} – F_n^2 \\tag{4}$\n",
    "\n",
    "Moreover, since $A^nA^m = A^{n+m}$ for any square matrix $A$, the following identities can be derived (they are obtained form two different coefficients of the matrix product)\n",
    "$F_mF_n + F_{m-1}F_{n-1} = F_{m+n-1} \\tag{5}$\n",
    "\n",
    "By putting $n = n+1$:\n",
    "$F_mF_{n+1} + F_{m-1}F_n = F_{m+n}\\tag{6}$\n",
    "\n",
    "Putting $m = n$:\n",
    "$F_{2n-1} = F_n^2 + F_{n-1}^2 \\tag{7}$\n",
    "\n",
    "$F_{2n} = (F_{n-1} + F_{n+1})F_n = (2F_{n-1} + F_n)F_n \\tag{8}$\n",
    "\n",
    "(Source: https://en.wikipedia.org/wiki/Fibonacci_number#Matrix_form)\n",
    "\n",
    "To get the formula to be proved, we simply need to do following:\n",
    "```\n",
    "If n is even, we can put k = n/2\n",
    "If n is odd, we can put k = (n+1)/2\n",
    "```\n",
    "\n",
    "Below is the implementation of above idea."
   ]
  },
  {
   "cell_type": "code",
   "execution_count": 11,
   "metadata": {},
   "outputs": [
    {
     "name": "stdout",
     "output_type": "stream",
     "text": [
      "34\n"
     ]
    }
   ],
   "source": [
    "# Python 3 Program to find n'th fibonacci Number in \n",
    "# with O(Log n) arithmatic operations \n",
    "MAX = 1000\n",
    "  \n",
    "# Create an array for memoization \n",
    "f = [0] * MAX\n",
    "  \n",
    "# Returns n'th fuibonacci number using table f[] \n",
    "def fib(n) : \n",
    "    # Base cases \n",
    "    if (n == 0) : \n",
    "        return 0\n",
    "    if (n == 1 or n == 2) : \n",
    "        f[n] = 1\n",
    "        return (f[n]) \n",
    "  \n",
    "    # If fib(n) is already computed \n",
    "    if (f[n]) : \n",
    "        return f[n] \n",
    "  \n",
    "    if( n & 1) : \n",
    "        k = (n + 1) // 2\n",
    "    else :  \n",
    "        k = n // 2\n",
    "  \n",
    "    # Applyting above formula [Note value n&1 is 1 \n",
    "    # if n is odd, else 0. \n",
    "    if((n & 1) ) : \n",
    "        f[n] = (fib(k) * fib(k) + fib(k-1) * fib(k-1)) \n",
    "    else : \n",
    "        f[n] = (2*fib(k-1) + fib(k))*fib(k) \n",
    "  \n",
    "    return f[n]\n",
    "\n",
    "# Driver code \n",
    "n = 9\n",
    "print(fib(n)) "
   ]
  },
  {
   "cell_type": "markdown",
   "metadata": {},
   "source": [
    "Time complexity of this solution is $O(\\log_n)$ as we divide the problem to half in every recursive call."
   ]
  },
  {
   "cell_type": "markdown",
   "metadata": {},
   "source": [
    "## Method 7 Another approach (Using another formula)\n",
    "In this method we directly implement the formula for nth term in the fibonacci series.\n",
    "$F_n = \\frac{\\big(\\frac{√5 + 1}{2}\\big) ^ n} {√5}\\tag{9}$\n",
    "Reference: http://www.maths.surrey.ac.uk/hosted-sites/R.Knott/Fibonacci/fibFormula.html"
   ]
  },
  {
   "cell_type": "code",
   "execution_count": 18,
   "metadata": {},
   "outputs": [
    {
     "name": "stdout",
     "output_type": "stream",
     "text": [
      "34\n"
     ]
    }
   ],
   "source": [
    "import math\n",
    "def Fibonacci(n):\n",
    "    phi = (1 + math.sqrt(5)) / 2\n",
    "    return round(pow(phi, n) / math.sqrt(5))\n",
    "\n",
    "n = 9\n",
    "print(Fibonacci(n))"
   ]
  },
  {
   "cell_type": "code",
   "execution_count": null,
   "metadata": {},
   "outputs": [],
   "source": []
  }
 ],
 "metadata": {
  "kernelspec": {
   "display_name": "Python 3",
   "language": "python",
   "name": "python3"
  },
  "language_info": {
   "codemirror_mode": {
    "name": "ipython",
    "version": 3
   },
   "file_extension": ".py",
   "mimetype": "text/x-python",
   "name": "python",
   "nbconvert_exporter": "python",
   "pygments_lexer": "ipython3",
   "version": "3.6.6"
  }
 },
 "nbformat": 4,
 "nbformat_minor": 2
}
