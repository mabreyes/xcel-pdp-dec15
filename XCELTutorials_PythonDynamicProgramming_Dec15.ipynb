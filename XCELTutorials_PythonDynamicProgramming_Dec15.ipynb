{
 "cells": [
  {
   "cell_type": "markdown",
   "metadata": {},
   "source": [
    "# Python Dynamic Programming\n",
    "### by Marc Anthony B Reyes\n",
    "December 15, 2018"
   ]
  },
  {
   "cell_type": "code",
   "execution_count": 1,
   "metadata": {},
   "outputs": [
    {
     "name": "stdout",
     "output_type": "stream",
     "text": [
      "Hello World!\n"
     ]
    }
   ],
   "source": [
    "#!/usr/bin/env python\n",
    "print(\"Hello World!\")"
   ]
  },
  {
   "cell_type": "markdown",
   "metadata": {},
   "source": [
    "### Indentation\n",
    "\n",
    "- Python by-line is indented four spaces\n",
    "\n",
    "```python\n",
    "if (foo):\n",
    "    if (bar):\n",
    "        baz(foo, bar)\n",
    "    else:\n",
    "        qux()\n",
    "```"
   ]
  },
  {
   "cell_type": "markdown",
   "metadata": {},
   "source": [
    "### Comments\n",
    "\n",
    "```python\n",
    "# A traditional one-line comment\n",
    "```\n",
    "\n",
    "```python\n",
    "\"\"\"\n",
    "Any string not assigned to a variable is considered a comment.\n",
    "This is an example of a multi-line comment.\n",
    "\"\"\"\n",
    "```\n",
    "\n",
    "```python\n",
    "\"This is a single-line comment\"\n",
    "```\n"
   ]
  },
  {
   "cell_type": "markdown",
   "metadata": {},
   "source": [
    "### Variable Types\n",
    "#### String"
   ]
  },
  {
   "cell_type": "code",
   "execution_count": 3,
   "metadata": {},
   "outputs": [],
   "source": [
    "# This is a string\n",
    "name = \"Marc Reyes (that\\\"s me)\"\n",
    "\n",
    "# This is also a string\n",
    "home = 'Canitoan, Cagayan de Oro'\n",
    "\n",
    "# This is a multi-line string\n",
    "sites = '''You can find me online\n",
    "on sites like GitHub and Twitter.'''\n",
    "\n",
    "# This is also a multi-line string\n",
    "sites = \"\"\"You can find me online\n",
    "on sites like GitHub and Twitter.\"\"\""
   ]
  },
  {
   "cell_type": "markdown",
   "metadata": {},
   "source": [
    "#### Numbers"
   ]
  },
  {
   "cell_type": "code",
   "execution_count": 4,
   "metadata": {},
   "outputs": [],
   "source": [
    "# Integers\n",
    "year = 2010\n",
    "year = int(\"2010\")\n",
    "\n",
    "# Floating point numbers\n",
    "pi = 3.14159265\n",
    "pi = float(\"3.14159265\")\n",
    "\n",
    "# Fixed point numbers\n",
    "from decimal import Decimal\n",
    "price = Decimal(\"0.02\")"
   ]
  },
  {
   "cell_type": "markdown",
   "metadata": {},
   "source": [
    "#### Null"
   ]
  },
  {
   "cell_type": "code",
   "execution_count": 5,
   "metadata": {},
   "outputs": [],
   "source": [
    "optional_data = None"
   ]
  },
  {
   "cell_type": "markdown",
   "metadata": {},
   "source": [
    "#### Lists"
   ]
  },
  {
   "cell_type": "code",
   "execution_count": 6,
   "metadata": {},
   "outputs": [
    {
     "name": "stdout",
     "output_type": "stream",
     "text": [
      "[42, 'Python', True]\n"
     ]
    }
   ],
   "source": [
    "# Lists can be heterogeneous \n",
    "favorites = []\n",
    "\n",
    "# Appending\n",
    "favorites.append(42)\n",
    "\n",
    "# Extending\n",
    "favorites.extend([\"Python\", True])\n",
    "\n",
    "print(favorites)"
   ]
  },
  {
   "cell_type": "code",
   "execution_count": 10,
   "metadata": {},
   "outputs": [
    {
     "data": {
      "text/plain": [
       "[3, 4, 5]"
      ]
     },
     "execution_count": 10,
     "metadata": {},
     "output_type": "execute_result"
    }
   ],
   "source": [
    "numbers = [1, 2, 3, 4, 5]\n",
    "\n",
    "len(numbers) # prints 5\n",
    "\n",
    "numbers[0] # prints 1\n",
    "\n",
    "numbers[0:2] # prints [1, 2]\n",
    "\n",
    "numbers[2:] # prints [3, 4, 5]"
   ]
  },
  {
   "cell_type": "markdown",
   "metadata": {},
   "source": [
    "#### Dictionaries"
   ]
  },
  {
   "cell_type": "code",
   "execution_count": 11,
   "metadata": {},
   "outputs": [
    {
     "name": "stdout",
     "output_type": "stream",
     "text": [
      "{'name': 'Marc Reyes', 'favorites': [42, 'food'], 'gender': 'male', 42: 'favorite number', (44.47, -73.21): 'coordinates'}\n"
     ]
    }
   ],
   "source": [
    "person = {}\n",
    "\n",
    "# Set by key / Get by key\n",
    "person['name'] = 'Marc Reyes'\n",
    "\n",
    "# Update\n",
    "person.update({\n",
    "    'favorites': [42, \"food\"],\n",
    "    'gender': 'male'\n",
    "})\n",
    "\n",
    "# Any immutable object can be a dictionary key\n",
    "person[42] = 'favorite number'\n",
    "person[(44.47, -73.21)] = 'coordinates'\n",
    "\n",
    "print(person)"
   ]
  },
  {
   "cell_type": "markdown",
   "metadata": {},
   "source": [
    "#### Dictionary methods"
   ]
  },
  {
   "cell_type": "code",
   "execution_count": 18,
   "metadata": {},
   "outputs": [
    {
     "data": {
      "text/plain": [
       "dict_values(['Marc', 'Male'])"
      ]
     },
     "execution_count": 18,
     "metadata": {},
     "output_type": "execute_result"
    }
   ],
   "source": [
    "person = {'name': 'Marc', 'gender': 'Male'}\n",
    "\n",
    "person['name']\n",
    "person.get('name') # outputs 'Marc'\n",
    "\n",
    "person.keys() # outputs dict_keys(['name', 'gender'])\n",
    "\n",
    "person.values() # outputs dict_values(['Marc', 'Male'])"
   ]
  }
 ],
 "metadata": {
  "kernelspec": {
   "display_name": "Python 3",
   "language": "python",
   "name": "python3"
  },
  "language_info": {
   "codemirror_mode": {
    "name": "ipython",
    "version": 3
   },
   "file_extension": ".py",
   "mimetype": "text/x-python",
   "name": "python",
   "nbconvert_exporter": "python",
   "pygments_lexer": "ipython3",
   "version": "3.6.6"
  }
 },
 "nbformat": 4,
 "nbformat_minor": 2
}
